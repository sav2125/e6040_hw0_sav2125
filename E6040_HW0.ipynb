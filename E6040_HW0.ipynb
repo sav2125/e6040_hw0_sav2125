{
 "cells": [
  {
   "cell_type": "code",
   "execution_count": 30,
   "metadata": {
    "collapsed": false
   },
   "outputs": [],
   "source": [
    "import theano\n",
    "import theano.tensor as T\n",
    "from theano.tensor.shared_randomstreams import RandomStreams\n",
    "from theano import function\n",
    "from theano import shared\n",
    "import numpy as np\n",
    "\n",
    "X = T.dmatrix('X')\n"
   ]
  },
  {
   "cell_type": "code",
   "execution_count": 31,
   "metadata": {
    "collapsed": false
   },
   "outputs": [
    {
     "name": "stdout",
     "output_type": "stream",
     "text": [
      "RandomFunction{normal}.1\n",
      "RandomFunction{normal}.1\n"
     ]
    }
   ],
   "source": [
    "srng = RandomStreams(seed=234)\n",
    "A = srng.normal((10,10))\n",
    "b = srng.normal((10,1))\n",
    "print (A)\n",
    "print (b)\n"
   ]
  },
  {
   "cell_type": "code",
   "execution_count": 32,
   "metadata": {
    "collapsed": false
   },
   "outputs": [
    {
     "name": "stdout",
     "output_type": "stream",
     "text": [
      "[[-0.1098121  -0.71288505 -0.37921171 -0.62078922 -0.26673721  0.65052827\n",
      "  -0.37260736 -0.41076363  1.13268927  0.01780779]\n",
      " [-0.68432393 -0.77773803 -1.77761526  0.33950563  1.4614386   1.03757516\n",
      "   0.4665086  -0.06264564  0.19828445  0.04813621]\n",
      " [-0.59630225 -0.50885031  0.33937583  0.23610087 -0.13255344 -0.94506958\n",
      "   0.04072827  0.0803243  -1.07830045  0.33571951]\n",
      " [ 1.12607757  2.41409917  0.50999    -0.85664511  1.36580205 -0.43899691\n",
      "   0.06781424  1.54071163 -0.71636817  0.94324775]\n",
      " [ 1.18202105 -2.26101807 -2.14987341  0.65013752  1.238974    2.04430618\n",
      "  -2.96615468 -2.61326858 -0.26620961 -6.27559731]\n",
      " [-0.79518522  0.95298189 -0.26776046  0.4029904  -0.35101956 -1.50627958\n",
      "  -0.28630449  1.12135431 -0.20586901 -1.07136269]\n",
      " [-0.2280212   0.40451914  0.14715111 -0.03725837 -0.09392656 -0.16070186\n",
      "   0.59834952  0.22140481 -0.1471904  -0.12954402]\n",
      " [-0.05266524 -0.03919521 -0.59969174  0.39542832 -0.45550543  0.83557835\n",
      "   0.21345358 -0.31740733 -0.38665206 -0.27239752]\n",
      " [ 0.06419639  0.1867559  -0.40794041  0.17828126 -0.06620965 -0.24112081\n",
      "  -0.20830961  0.28739562  0.14445738 -0.26482362]\n",
      " [-0.19312908  0.58605792  1.05050871  0.65691576 -0.11021325 -0.6036351\n",
      "  -0.20690046  0.09227825  0.8728314   0.51170258]]\n"
     ]
    }
   ],
   "source": [
    "sharedA = shared(numpy.zeros((10,10)))\n",
    "sharedb = shared(numpy.zeros((10,1)))\n",
    "\n",
    "computation1 = (X + A)*b;\n",
    "func = function([X] , computation1 , updates = [(sharedA, sharedA + A),(sharedb, sharedb + b)] )\n",
    "X = numpy.random.randn(10,10)\n",
    "Computation_Theano = func(X)\n",
    "print (Computation_Theano)\n"
   ]
  },
  {
   "cell_type": "code",
   "execution_count": 35,
   "metadata": {
    "collapsed": false
   },
   "outputs": [
    {
     "name": "stdout",
     "output_type": "stream",
     "text": [
      "same computation\n"
     ]
    }
   ],
   "source": [
    "sharedA_value = sharedA.get_value()\n",
    "sharedb_value = sharedb.get_value()\n",
    "computation2 = (sharedA_value + X)*sharedb_value\n",
    "\n",
    "if (Computation_Theano == computation2).all():\n",
    "    print ('same computation')\n",
    "else:\n",
    "    print ('different computation')"
   ]
  },
  {
   "cell_type": "code",
   "execution_count": null,
   "metadata": {
    "collapsed": true
   },
   "outputs": [],
   "source": []
  }
 ],
 "metadata": {
  "kernelspec": {
   "display_name": "Python 2",
   "language": "python",
   "name": "python2"
  },
  "language_info": {
   "codemirror_mode": {
    "name": "ipython",
    "version": 2
   },
   "file_extension": ".py",
   "mimetype": "text/x-python",
   "name": "python",
   "nbconvert_exporter": "python",
   "pygments_lexer": "ipython2",
   "version": "2.7.11"
  }
 },
 "nbformat": 4,
 "nbformat_minor": 0
}
